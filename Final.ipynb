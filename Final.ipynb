{
 "cells": [
  {
   "cell_type": "code",
   "execution_count": 1,
   "metadata": {},
   "outputs": [],
   "source": [
    "import pandas as pd\n",
    "from skmultilearn.problem_transform import BinaryRelevance\n",
    "from sklearn.svm import SVC\n",
    "import numpy as np\n",
    "\n",
    "#Load \"Recipes.Csv\"\n",
    "\n",
    "recipes = pd.read_csv(\"Recipes.csv\")\n",
    "defects = pd.read_csv(\"Defects.csv\")\n",
    "\n",
    "# get columns from Recipes.csv\n",
    "heat_id = list(recipes['HEAT_ID'])\n",
    "material_code = list(recipes['Material_Code'])\n",
    "weight = list(recipes['WEIGHT'])\n",
    "# get columns from Defects.csv\n",
    "heat_id_defect = list(defects['HEAT_ID'])\n",
    "defect_type = list(defects['DEFECT_TYPE'])\n",
    "# result\n",
    "result = []\n",
    "# material code unique\n",
    "material_code_unique = []\n",
    "\n",
    "# remove duplicate\n",
    "unique_heat_id = list(set(heat_id))\n",
    "# heat_id vs mat code\n",
    "material_code_set = {}\n",
    "# heat_id vs weight following mat code\n",
    "weight_set = {}\n",
    "# heat_id vs defect\n",
    "defect_set = {}\n"
   ]
  },
  {
   "cell_type": "code",
   "execution_count": 2,
   "metadata": {},
   "outputs": [],
   "source": [
    "for i in range(len(unique_heat_id)):\n",
    "    material_code_set[unique_heat_id[i]] = []\n",
    "    weight_set[unique_heat_id[i]] = []\n",
    "    defect_set[unique_heat_id[i]] = []\n",
    "\n",
    "for i in range(len(heat_id)):\n",
    "    material_code_set[heat_id[i]].append(material_code[i])\n",
    "    weight_set[heat_id[i]].append(weight[i])\n",
    "\n",
    "for i in range(len(heat_id_defect)):\n",
    "    try:\n",
    "        defect_set[heat_id_defect[i]].append(defect_type[i])\n",
    "    except:\n",
    "        continue\n",
    "\n",
    "# material unique\n",
    "material_code_temp = []\n",
    "defect_set_key = list(defect_set.keys())\n",
    "for i in range(len(defect_set_key)):\n",
    "    material_code_temp += material_code_set[defect_set_key[i]]\n",
    "material_code_unique = list(set(material_code_temp))"
   ]
  },
  {
   "cell_type": "code",
   "execution_count": 3,
   "metadata": {},
   "outputs": [],
   "source": [
    "# crate dataframe\n",
    "defect_key_list = list(defect_set.keys())\n",
    "for i in range(len(defect_key_list)):\n",
    "    for j in range(len(defect_set[defect_key_list[i]])):\n",
    "        temp = []\n",
    "        # heat id\n",
    "        temp.append(defect_key_list[i])\n",
    "        # all mat\n",
    "        for k in range(len(material_code_unique)):\n",
    "            if material_code_unique[k] in material_code_set[defect_key_list[i]]:\n",
    "                temp.append(weight_set[defect_key_list[i]][material_code_set[defect_key_list[i]].index(material_code_unique[k])])\n",
    "            else:\n",
    "                temp.append(0)\n",
    "        # M_sum\n",
    "        temp.append(sum(weight_set[defect_key_list[i]]))\n",
    "        # M_Mean\n",
    "        temp.append(sum(weight_set[defect_key_list[i]]) / len(weight_set[defect_key_list[i]]))\n",
    "        # M_num\n",
    "        temp.append(len(weight_set[defect_key_list[i]]))\n",
    "        # Repeat\n",
    "        temp.append(len(defect_set[defect_key_list[i]]))\n",
    "        # defect id\n",
    "        temp.append(defect_set[defect_key_list[i]][j])\n",
    "        result.append(temp)\n",
    "\n",
    "columns = []\n",
    "columns.append('HEAT_ID')\n",
    "for i in range(len(material_code_unique)):\n",
    "    columns.append('Mat_' + str(material_code_unique[i]))\n",
    "columns.append('M_Sum')\n",
    "columns.append('M_Mean')\n",
    "columns.append('M_Num')\n",
    "columns.append('Repeat')\n",
    "columns.append('Defect_Id')\n",
    "\n",
    "df1 = pd.DataFrame(result, columns=columns)\n",
    "df1.to_csv('test.csv')"
   ]
  },
  {
   "cell_type": "code",
   "execution_count": 4,
   "metadata": {},
   "outputs": [],
   "source": [
    "relations = ['Mat_166', 'Mat_180', 'Mat_181', 'Mat_182', 'Mat_183', 'Mat_190', 'Mat_207', 'Mat_208', 'Mat_209', 'Mat_210', 'Mat_211', 'Mat_212', 'Mat_213', 'Mat_214', 'Mat_215', 'Mat_112', 'Mat_113', 'Mat_114', 'Mat_115', 'Mat_116', 'Mat_117', 'Mat_118', 'Mat_119', 'Mat_120', 'Mat_121', 'Mat_122', 'Mat_124', 'Mat_125', 'Mat_126']\n",
    "defect_data = []\n",
    "\n",
    "defect = pd.read_csv(\"test.csv\")\n",
    "\n",
    "heat_id = list(defect['HEAT_ID'])\n",
    "for i in range(len(relations)):\n",
    "    defect_data.append(list(defect[relations[i]]))\n",
    "defect_id = list(defect['Defect_Id'])"
   ]
  },
  {
   "cell_type": "code",
   "execution_count": 5,
   "metadata": {},
   "outputs": [],
   "source": [
    "def normalize(heatId):\n",
    "    result = []\n",
    "    result_y = []\n",
    "    for i in range(len(heat_id)):\n",
    "        if heat_id[i] == heatId:\n",
    "            temp = []\n",
    "            for j in range(len(defect_data)):\n",
    "                temp.append(defect_data[j][i])\n",
    "            result.append(temp)\n",
    "            result_y.append(defect_id[i])\n",
    "    return [result, result_y]"
   ]
  },
  {
   "cell_type": "code",
   "execution_count": null,
   "metadata": {},
   "outputs": [],
   "source": []
  },
  {
   "cell_type": "code",
   "execution_count": 6,
   "metadata": {},
   "outputs": [],
   "source": [
    "heatId = 1703936\n",
    "mat_list = ['Mat_113--37249', 'Mat_119--1480']\n",
    "\n",
    "def testing_data(mat_list):\n",
    "    test_x = []\n",
    "    mat_code = []\n",
    "    mat_weight = []\n",
    "    for i in range(len(mat_list)):\n",
    "        mat_code.append(mat_list[i].split('--')[0])\n",
    "        mat_weight.append(float(mat_list[i].split('--')[1]))\n",
    "        \n",
    "    for i in range(len(relations)):\n",
    "        if relations[i] in mat_code:\n",
    "            index = mat_code.index(relations[i])\n",
    "            test_x.append(mat_weight[index])\n",
    "        else:\n",
    "            test_x.append(0.0)\n",
    "    return test_x"
   ]
  },
  {
   "cell_type": "code",
   "execution_count": 7,
   "metadata": {},
   "outputs": [],
   "source": [
    "train_x, train_y = normalize(heatId)\n",
    "test_x = testing_data(mat_list)"
   ]
  },
  {
   "cell_type": "code",
   "execution_count": 8,
   "metadata": {},
   "outputs": [],
   "source": [
    "clf = BinaryRelevance(\n",
    "    classifier=SVC(),\n",
    "    require_dense=[False, True]\n",
    ")\n",
    "\n",
    "train_x = np.array(train_x)\n",
    "train_y = np.array(train_y)\n",
    "train_y = np.reshape(train_y, (-1, 1))\n",
    "test_x = np.array([test_x])\n",
    "\n",
    "clf.fit(train_x, train_y)\n",
    "prediction = clf.predict(test_x)"
   ]
  },
  {
   "cell_type": "code",
   "execution_count": 9,
   "metadata": {},
   "outputs": [],
   "source": [
    "def get_result(pre):\n",
    "    temp = []\n",
    "    for i in range(len(train_y)):\n",
    "        temp.append(abs(train_y[i][0] - pre[0][0]))\n",
    "    \n",
    "    min_value = min(temp)\n",
    "    index = temp.index(min_value)\n",
    "    return train_y[index][0]"
   ]
  },
  {
   "cell_type": "code",
   "execution_count": 10,
   "metadata": {},
   "outputs": [
    {
     "name": "stdout",
     "output_type": "stream",
     "text": [
      "89\n"
     ]
    }
   ],
   "source": [
    "print(get_result(prediction.A))"
   ]
  }
 ],
 "metadata": {
  "kernelspec": {
   "display_name": "Python 3",
   "language": "python",
   "name": "python3"
  },
  "language_info": {
   "codemirror_mode": {
    "name": "ipython",
    "version": 3
   },
   "file_extension": ".py",
   "mimetype": "text/x-python",
   "name": "python",
   "nbconvert_exporter": "python",
   "pygments_lexer": "ipython3",
   "version": "3.7.6"
  }
 },
 "nbformat": 4,
 "nbformat_minor": 4
}
