{
 "cells": [
  {
   "cell_type": "code",
   "execution_count": 1,
   "metadata": {},
   "outputs": [],
   "source": [
    "#importing the data_process file which includes data preprocessing functions\n",
    "from data_preprocess import*\n",
    "\n",
    "#Loading all the libraries\n",
    "import pandas as pd\n",
    "import numpy as np\n",
    "import matplotlib.pyplot as plt\n",
    "from sklearn.metrics import precision_score, recall_score, f1_score\n",
    "from yellowbrick.classifier import ClassificationReport\n",
    "from sklearn.linear_model import LogisticRegression\n",
    "from matplotlib.colors import ListedColormap\n",
    "from sklearn.metrics import confusion_matrix\n",
    "from sklearn.metrics import classification_report\n",
    "from sklearn.model_selection import train_test_split\n",
    "from sklearn.metrics import accuracy_score\n",
    "from sklearn.ensemble import RandomForestClassifier\n",
    "from sklearn.tree import DecisionTreeClassifier\n",
    "from sklearn.neighbors import KNeighborsClassifier"
   ]
  },
  {
   "cell_type": "code",
   "execution_count": 2,
   "metadata": {},
   "outputs": [],
   "source": [
    "#loading the dataset ( Load \"Recipes.Csv\" -\"Defects.csv\")\n",
    "recipes = pd.read_csv(\"Recipes.csv\")\n",
    "defects = pd.read_csv(\"Defects.csv\")"
   ]
  },
  {
   "cell_type": "code",
   "execution_count": 3,
   "metadata": {},
   "outputs": [],
   "source": [
    "#recipes\n",
    "#defects"
   ]
  },
  {
   "cell_type": "code",
   "execution_count": 4,
   "metadata": {},
   "outputs": [],
   "source": [
    "#calling the preprocess functions from data_process\n",
    "df = preprocess(recipes, defects)\n",
    "df = organize_data(df)"
   ]
  },
  {
   "cell_type": "code",
   "execution_count": 5,
   "metadata": {},
   "outputs": [
    {
     "data": {
      "text/html": [
       "<div>\n",
       "<style scoped>\n",
       "    .dataframe tbody tr th:only-of-type {\n",
       "        vertical-align: middle;\n",
       "    }\n",
       "\n",
       "    .dataframe tbody tr th {\n",
       "        vertical-align: top;\n",
       "    }\n",
       "\n",
       "    .dataframe thead th {\n",
       "        text-align: right;\n",
       "    }\n",
       "</style>\n",
       "<table border=\"1\" class=\"dataframe\">\n",
       "  <thead>\n",
       "    <tr style=\"text-align: right;\">\n",
       "      <th></th>\n",
       "      <th>HEAT_ID</th>\n",
       "      <th>112</th>\n",
       "      <th>113</th>\n",
       "      <th>114</th>\n",
       "      <th>115</th>\n",
       "      <th>116</th>\n",
       "      <th>117</th>\n",
       "      <th>118</th>\n",
       "      <th>119</th>\n",
       "      <th>120</th>\n",
       "      <th>...</th>\n",
       "      <th>209</th>\n",
       "      <th>210</th>\n",
       "      <th>211</th>\n",
       "      <th>212</th>\n",
       "      <th>213</th>\n",
       "      <th>214</th>\n",
       "      <th>215</th>\n",
       "      <th>Sum</th>\n",
       "      <th>DEFECT_TYPE</th>\n",
       "      <th>DEFECT_GROUP_ID</th>\n",
       "    </tr>\n",
       "  </thead>\n",
       "  <tbody>\n",
       "    <tr>\n",
       "      <th>67441</th>\n",
       "      <td>1703812</td>\n",
       "      <td>0.0</td>\n",
       "      <td>36992.8</td>\n",
       "      <td>4464.7</td>\n",
       "      <td>4394.9</td>\n",
       "      <td>0.0</td>\n",
       "      <td>39518.8</td>\n",
       "      <td>0.0</td>\n",
       "      <td>1548.6</td>\n",
       "      <td>4581.3</td>\n",
       "      <td>...</td>\n",
       "      <td>0.0</td>\n",
       "      <td>0.0</td>\n",
       "      <td>0.0</td>\n",
       "      <td>0.0</td>\n",
       "      <td>0.0</td>\n",
       "      <td>0.0</td>\n",
       "      <td>0.0</td>\n",
       "      <td>154984.6</td>\n",
       "      <td>169</td>\n",
       "      <td>OTH</td>\n",
       "    </tr>\n",
       "    <tr>\n",
       "      <th>411948</th>\n",
       "      <td>1804588</td>\n",
       "      <td>0.0</td>\n",
       "      <td>48619.3</td>\n",
       "      <td>0.0</td>\n",
       "      <td>0.0</td>\n",
       "      <td>0.0</td>\n",
       "      <td>68258.9</td>\n",
       "      <td>0.0</td>\n",
       "      <td>0.0</td>\n",
       "      <td>4386.7</td>\n",
       "      <td>...</td>\n",
       "      <td>0.0</td>\n",
       "      <td>0.0</td>\n",
       "      <td>0.0</td>\n",
       "      <td>0.0</td>\n",
       "      <td>0.0</td>\n",
       "      <td>0.0</td>\n",
       "      <td>0.0</td>\n",
       "      <td>152724.7</td>\n",
       "      <td>89</td>\n",
       "      <td>SH</td>\n",
       "    </tr>\n",
       "    <tr>\n",
       "      <th>381836</th>\n",
       "      <td>1803088</td>\n",
       "      <td>0.0</td>\n",
       "      <td>31481.6</td>\n",
       "      <td>4247.0</td>\n",
       "      <td>0.0</td>\n",
       "      <td>0.0</td>\n",
       "      <td>34493.0</td>\n",
       "      <td>0.0</td>\n",
       "      <td>0.0</td>\n",
       "      <td>4418.4</td>\n",
       "      <td>...</td>\n",
       "      <td>0.0</td>\n",
       "      <td>0.0</td>\n",
       "      <td>0.0</td>\n",
       "      <td>0.0</td>\n",
       "      <td>0.0</td>\n",
       "      <td>0.0</td>\n",
       "      <td>0.0</td>\n",
       "      <td>148506.2</td>\n",
       "      <td>148</td>\n",
       "      <td>DM</td>\n",
       "    </tr>\n",
       "    <tr>\n",
       "      <th>462999</th>\n",
       "      <td>1809288</td>\n",
       "      <td>0.0</td>\n",
       "      <td>35656.9</td>\n",
       "      <td>4489.7</td>\n",
       "      <td>0.0</td>\n",
       "      <td>0.0</td>\n",
       "      <td>23665.3</td>\n",
       "      <td>10632.7</td>\n",
       "      <td>0.0</td>\n",
       "      <td>0.0</td>\n",
       "      <td>...</td>\n",
       "      <td>0.0</td>\n",
       "      <td>0.0</td>\n",
       "      <td>0.0</td>\n",
       "      <td>0.0</td>\n",
       "      <td>4381.7</td>\n",
       "      <td>4291.9</td>\n",
       "      <td>0.0</td>\n",
       "      <td>146596.3</td>\n",
       "      <td>150</td>\n",
       "      <td>DM</td>\n",
       "    </tr>\n",
       "    <tr>\n",
       "      <th>146607</th>\n",
       "      <td>1708742</td>\n",
       "      <td>0.0</td>\n",
       "      <td>48943.1</td>\n",
       "      <td>0.0</td>\n",
       "      <td>8910.8</td>\n",
       "      <td>9220.6</td>\n",
       "      <td>0.0</td>\n",
       "      <td>0.0</td>\n",
       "      <td>0.0</td>\n",
       "      <td>4603.5</td>\n",
       "      <td>...</td>\n",
       "      <td>0.0</td>\n",
       "      <td>0.0</td>\n",
       "      <td>0.0</td>\n",
       "      <td>0.0</td>\n",
       "      <td>0.0</td>\n",
       "      <td>0.0</td>\n",
       "      <td>0.0</td>\n",
       "      <td>149959.4</td>\n",
       "      <td>190</td>\n",
       "      <td>DM</td>\n",
       "    </tr>\n",
       "    <tr>\n",
       "      <th>...</th>\n",
       "      <td>...</td>\n",
       "      <td>...</td>\n",
       "      <td>...</td>\n",
       "      <td>...</td>\n",
       "      <td>...</td>\n",
       "      <td>...</td>\n",
       "      <td>...</td>\n",
       "      <td>...</td>\n",
       "      <td>...</td>\n",
       "      <td>...</td>\n",
       "      <td>...</td>\n",
       "      <td>...</td>\n",
       "      <td>...</td>\n",
       "      <td>...</td>\n",
       "      <td>...</td>\n",
       "      <td>...</td>\n",
       "      <td>...</td>\n",
       "      <td>...</td>\n",
       "      <td>...</td>\n",
       "      <td>...</td>\n",
       "      <td>...</td>\n",
       "    </tr>\n",
       "    <tr>\n",
       "      <th>264373</th>\n",
       "      <td>1715634</td>\n",
       "      <td>0.0</td>\n",
       "      <td>23979.6</td>\n",
       "      <td>0.0</td>\n",
       "      <td>0.0</td>\n",
       "      <td>0.0</td>\n",
       "      <td>39993.3</td>\n",
       "      <td>0.0</td>\n",
       "      <td>0.0</td>\n",
       "      <td>0.0</td>\n",
       "      <td>...</td>\n",
       "      <td>0.0</td>\n",
       "      <td>0.0</td>\n",
       "      <td>0.0</td>\n",
       "      <td>0.0</td>\n",
       "      <td>0.0</td>\n",
       "      <td>0.0</td>\n",
       "      <td>0.0</td>\n",
       "      <td>147658.1</td>\n",
       "      <td>183</td>\n",
       "      <td>OTH</td>\n",
       "    </tr>\n",
       "    <tr>\n",
       "      <th>291574</th>\n",
       "      <td>1716704</td>\n",
       "      <td>0.0</td>\n",
       "      <td>26098.4</td>\n",
       "      <td>4099.6</td>\n",
       "      <td>8832.8</td>\n",
       "      <td>0.0</td>\n",
       "      <td>30408.4</td>\n",
       "      <td>0.0</td>\n",
       "      <td>0.0</td>\n",
       "      <td>4245.2</td>\n",
       "      <td>...</td>\n",
       "      <td>0.0</td>\n",
       "      <td>0.0</td>\n",
       "      <td>0.0</td>\n",
       "      <td>0.0</td>\n",
       "      <td>0.0</td>\n",
       "      <td>0.0</td>\n",
       "      <td>0.0</td>\n",
       "      <td>158939.5</td>\n",
       "      <td>182</td>\n",
       "      <td>OTH</td>\n",
       "    </tr>\n",
       "    <tr>\n",
       "      <th>491995</th>\n",
       "      <td>1810560</td>\n",
       "      <td>0.0</td>\n",
       "      <td>35545.8</td>\n",
       "      <td>8553.9</td>\n",
       "      <td>0.0</td>\n",
       "      <td>0.0</td>\n",
       "      <td>40991.2</td>\n",
       "      <td>0.0</td>\n",
       "      <td>0.0</td>\n",
       "      <td>0.0</td>\n",
       "      <td>...</td>\n",
       "      <td>0.0</td>\n",
       "      <td>0.0</td>\n",
       "      <td>0.0</td>\n",
       "      <td>0.0</td>\n",
       "      <td>4467.9</td>\n",
       "      <td>0.0</td>\n",
       "      <td>0.0</td>\n",
       "      <td>152838.2</td>\n",
       "      <td>212</td>\n",
       "      <td>OTH</td>\n",
       "    </tr>\n",
       "    <tr>\n",
       "      <th>41742</th>\n",
       "      <td>1702764</td>\n",
       "      <td>0.0</td>\n",
       "      <td>45151.1</td>\n",
       "      <td>6128.0</td>\n",
       "      <td>0.0</td>\n",
       "      <td>0.0</td>\n",
       "      <td>17768.1</td>\n",
       "      <td>0.0</td>\n",
       "      <td>7872.1</td>\n",
       "      <td>5113.8</td>\n",
       "      <td>...</td>\n",
       "      <td>0.0</td>\n",
       "      <td>0.0</td>\n",
       "      <td>0.0</td>\n",
       "      <td>0.0</td>\n",
       "      <td>0.0</td>\n",
       "      <td>0.0</td>\n",
       "      <td>0.0</td>\n",
       "      <td>139845.3</td>\n",
       "      <td>90</td>\n",
       "      <td>SH</td>\n",
       "    </tr>\n",
       "    <tr>\n",
       "      <th>82019</th>\n",
       "      <td>1704390</td>\n",
       "      <td>0.0</td>\n",
       "      <td>38861.6</td>\n",
       "      <td>3270.4</td>\n",
       "      <td>0.0</td>\n",
       "      <td>0.0</td>\n",
       "      <td>61155.2</td>\n",
       "      <td>0.0</td>\n",
       "      <td>3578.8</td>\n",
       "      <td>7921.5</td>\n",
       "      <td>...</td>\n",
       "      <td>0.0</td>\n",
       "      <td>0.0</td>\n",
       "      <td>0.0</td>\n",
       "      <td>0.0</td>\n",
       "      <td>0.0</td>\n",
       "      <td>0.0</td>\n",
       "      <td>0.0</td>\n",
       "      <td>145195.9</td>\n",
       "      <td>167</td>\n",
       "      <td>OTH</td>\n",
       "    </tr>\n",
       "  </tbody>\n",
       "</table>\n",
       "<p>87521 rows × 33 columns</p>\n",
       "</div>"
      ],
      "text/plain": [
       "        HEAT_ID  112      113     114     115     116      117      118  \\\n",
       "67441   1703812  0.0  36992.8  4464.7  4394.9     0.0  39518.8      0.0   \n",
       "411948  1804588  0.0  48619.3     0.0     0.0     0.0  68258.9      0.0   \n",
       "381836  1803088  0.0  31481.6  4247.0     0.0     0.0  34493.0      0.0   \n",
       "462999  1809288  0.0  35656.9  4489.7     0.0     0.0  23665.3  10632.7   \n",
       "146607  1708742  0.0  48943.1     0.0  8910.8  9220.6      0.0      0.0   \n",
       "...         ...  ...      ...     ...     ...     ...      ...      ...   \n",
       "264373  1715634  0.0  23979.6     0.0     0.0     0.0  39993.3      0.0   \n",
       "291574  1716704  0.0  26098.4  4099.6  8832.8     0.0  30408.4      0.0   \n",
       "491995  1810560  0.0  35545.8  8553.9     0.0     0.0  40991.2      0.0   \n",
       "41742   1702764  0.0  45151.1  6128.0     0.0     0.0  17768.1      0.0   \n",
       "82019   1704390  0.0  38861.6  3270.4     0.0     0.0  61155.2      0.0   \n",
       "\n",
       "           119     120  ...  209  210  211  212     213     214  215  \\\n",
       "67441   1548.6  4581.3  ...  0.0  0.0  0.0  0.0     0.0     0.0  0.0   \n",
       "411948     0.0  4386.7  ...  0.0  0.0  0.0  0.0     0.0     0.0  0.0   \n",
       "381836     0.0  4418.4  ...  0.0  0.0  0.0  0.0     0.0     0.0  0.0   \n",
       "462999     0.0     0.0  ...  0.0  0.0  0.0  0.0  4381.7  4291.9  0.0   \n",
       "146607     0.0  4603.5  ...  0.0  0.0  0.0  0.0     0.0     0.0  0.0   \n",
       "...        ...     ...  ...  ...  ...  ...  ...     ...     ...  ...   \n",
       "264373     0.0     0.0  ...  0.0  0.0  0.0  0.0     0.0     0.0  0.0   \n",
       "291574     0.0  4245.2  ...  0.0  0.0  0.0  0.0     0.0     0.0  0.0   \n",
       "491995     0.0     0.0  ...  0.0  0.0  0.0  0.0  4467.9     0.0  0.0   \n",
       "41742   7872.1  5113.8  ...  0.0  0.0  0.0  0.0     0.0     0.0  0.0   \n",
       "82019   3578.8  7921.5  ...  0.0  0.0  0.0  0.0     0.0     0.0  0.0   \n",
       "\n",
       "             Sum  DEFECT_TYPE  DEFECT_GROUP_ID  \n",
       "67441   154984.6          169              OTH  \n",
       "411948  152724.7           89               SH  \n",
       "381836  148506.2          148               DM  \n",
       "462999  146596.3          150               DM  \n",
       "146607  149959.4          190               DM  \n",
       "...          ...          ...              ...  \n",
       "264373  147658.1          183              OTH  \n",
       "291574  158939.5          182              OTH  \n",
       "491995  152838.2          212              OTH  \n",
       "41742   139845.3           90               SH  \n",
       "82019   145195.9          167              OTH  \n",
       "\n",
       "[87521 rows x 33 columns]"
      ]
     },
     "execution_count": 5,
     "metadata": {},
     "output_type": "execute_result"
    }
   ],
   "source": [
    "df"
   ]
  },
  {
   "cell_type": "code",
   "execution_count": 6,
   "metadata": {},
   "outputs": [
    {
     "name": "stdout",
     "output_type": "stream",
     "text": [
      "[112 113 115 114 117 119 121 126 124 120 116 180 166 183 182 190 181 122\n",
      " 125 118 208 209 207 210 211 215 212 214 213]\n"
     ]
    }
   ],
   "source": [
    "# Taking Unique mat_code as an array in 'mat'.....\n",
    "\n",
    "mat = recipes.Material_Code.unique()\n",
    "print(mat)"
   ]
  },
  {
   "cell_type": "code",
   "execution_count": 12,
   "metadata": {},
   "outputs": [],
   "source": [
    "#x=df.iloc[S_row:E_row, S_0:_E_31].values\n",
    "x=df.iloc[:, 0:31].values # Features\n",
    "y=df.iloc[:, 32].values #Target/label\n",
    "\n",
    "#Split train_test samples,test size =20% of the orginal data...test_size = 0.20\n",
    "\n",
    "x_train, x_test, y_train, y_test = train_test_split(x, y, test_size = 0.20)"
   ]
  },
  {
   "cell_type": "code",
   "execution_count": 15,
   "metadata": {},
   "outputs": [
    {
     "data": {
      "text/plain": [
       "array([[1703812. ,       0. ,   36992.8, ...,       0. ,       0. ,\n",
       "         154984.6],\n",
       "       [1804588. ,       0. ,   48619.3, ...,       0. ,       0. ,\n",
       "         152724.7],\n",
       "       [1803088. ,       0. ,   31481.6, ...,       0. ,       0. ,\n",
       "         148506.2],\n",
       "       ...,\n",
       "       [1810560. ,       0. ,   35545.8, ...,       0. ,       0. ,\n",
       "         152838.2],\n",
       "       [1702764. ,       0. ,   45151.1, ...,       0. ,       0. ,\n",
       "         139845.3],\n",
       "       [1704390. ,       0. ,   38861.6, ...,       0. ,       0. ,\n",
       "         145195.9]])"
      ]
     },
     "execution_count": 15,
     "metadata": {},
     "output_type": "execute_result"
    }
   ],
   "source": [
    "x"
   ]
  },
  {
   "cell_type": "code",
   "execution_count": 9,
   "metadata": {},
   "outputs": [
    {
     "data": {
      "text/plain": [
       "array(['OTH', 'SH', 'DM', ..., 'OTH', 'SH', 'OTH'], dtype=object)"
      ]
     },
     "execution_count": 9,
     "metadata": {},
     "output_type": "execute_result"
    }
   ],
   "source": [
    "y"
   ]
  },
  {
   "cell_type": "code",
   "execution_count": 16,
   "metadata": {},
   "outputs": [
    {
     "name": "stdout",
     "output_type": "stream",
     "text": [
      "43.0\n"
     ]
    }
   ],
   "source": [
    "# fitting the traing set to the Classifier \n",
    "classifier = RandomForestClassifier(max_depth=5, n_estimators=200)\n",
    "classifier.fit(x_train, y_train)\n",
    "\n",
    "#Per. the predictions\n",
    "y_pred = classifier.predict(x_test)\n",
    "\n",
    "#Calculation the accuracy_score \n",
    "scr = accuracy_score(y_test, y_pred)\n",
    "print(np.round(scr*100))"
   ]
  },
  {
   "cell_type": "code",
   "execution_count": 11,
   "metadata": {},
   "outputs": [],
   "source": [
    "# save the model to disk using pickle \n",
    "import pickle\n",
    "filename = 'finalized_model.sav'\n",
    "\n",
    "pickle.dump(classifier, open(filename, 'wb'))"
   ]
  },
  {
   "cell_type": "code",
   "execution_count": 12,
   "metadata": {},
   "outputs": [
    {
     "name": "stdout",
     "output_type": "stream",
     "text": [
      "================= Logistic Regression ====================\n"
     ]
    },
    {
     "name": "stderr",
     "output_type": "stream",
     "text": [
      "C:\\Users\\rahim\\anaconda3\\lib\\site-packages\\sklearn\\linear_model\\_sag.py:330: ConvergenceWarning: The max_iter was reached which means the coef_ did not converge\n",
      "  \"the coef_ did not converge\", ConvergenceWarning)\n",
      "C:\\Users\\rahim\\anaconda3\\lib\\site-packages\\sklearn\\metrics\\_classification.py:1221: UndefinedMetricWarning: Precision and F-score are ill-defined and being set to 0.0 in labels with no predicted samples. Use `zero_division` parameter to control this behavior.\n",
      "  _warn_prf(average, modifier, msg_start, len(result))\n"
     ]
    },
    {
     "name": "stdout",
     "output_type": "stream",
     "text": [
      "              precision    recall  f1-score   support\n",
      "\n",
      "        CCTO       0.00      0.00      0.00       210\n",
      "          DM       0.41      0.22      0.29      6447\n",
      "          EQ       0.00      0.00      0.00       195\n",
      "         IDF       0.00      0.00      0.00        26\n",
      "         MET       0.00      0.00      0.00      1310\n",
      "         OTH       0.42      0.82      0.56      7274\n",
      "          PK       0.00      0.00      0.00         2\n",
      "          PR       0.00      0.00      0.00        28\n",
      "          SH       0.00      0.00      0.00      1074\n",
      "          SU       0.00      0.00      0.00       939\n",
      "\n",
      "    accuracy                           0.42     17505\n",
      "   macro avg       0.08      0.10      0.08     17505\n",
      "weighted avg       0.33      0.42      0.34     17505\n",
      "\n",
      "[[   0   27    0    0    0  183    0    0    0    0]\n",
      " [   0 1420    0    0    0 5027    0    0    0    0]\n",
      " [   0   15    0    0    0  180    0    0    0    0]\n",
      " [   0    6    0    0    0   20    0    0    0    0]\n",
      " [   0  186    0    0    0 1124    0    0    0    0]\n",
      " [   0 1305    0    0    0 5969    0    0    0    0]\n",
      " [   0    1    0    0    0    1    0    0    0    0]\n",
      " [   0    4    0    0    0   24    0    0    0    0]\n",
      " [   0  383    0    0    0  691    0    0    0    0]\n",
      " [   0   98    0    0    0  841    0    0    0    0]]\n",
      "Logistic Regression  accuracy is 0.4221079691516709\n",
      "Precision Score :  0.4221079691516709\n"
     ]
    },
    {
     "name": "stderr",
     "output_type": "stream",
     "text": [
      "C:\\Users\\rahim\\anaconda3\\lib\\site-packages\\sklearn\\metrics\\_classification.py:1270: UserWarning: Note that pos_label (set to 'positive') is ignored when average != 'binary' (got 'micro'). You may use labels=[pos_label] to specify a single positive class.\n",
      "  % (pos_label, average), UserWarning)\n"
     ]
    },
    {
     "name": "stdout",
     "output_type": "stream",
     "text": [
      "Recall Score :  0.4221079691516709\n",
      "================= Random Forest ====================\n"
     ]
    },
    {
     "name": "stderr",
     "output_type": "stream",
     "text": [
      "C:\\Users\\rahim\\anaconda3\\lib\\site-packages\\sklearn\\metrics\\_classification.py:1221: UndefinedMetricWarning: Precision and F-score are ill-defined and being set to 0.0 in labels with no predicted samples. Use `zero_division` parameter to control this behavior.\n",
      "  _warn_prf(average, modifier, msg_start, len(result))\n"
     ]
    },
    {
     "name": "stdout",
     "output_type": "stream",
     "text": [
      "              precision    recall  f1-score   support\n",
      "\n",
      "        CCTO       0.00      0.00      0.00       210\n",
      "          DM       0.44      0.26      0.33      6447\n",
      "          EQ       0.00      0.00      0.00       195\n",
      "         IDF       0.00      0.00      0.00        26\n",
      "         MET       0.00      0.00      0.00      1310\n",
      "         OTH       0.43      0.82      0.57      7274\n",
      "          PK       0.00      0.00      0.00         2\n",
      "          PR       0.00      0.00      0.00        28\n",
      "          SH       0.00      0.00      0.00      1074\n",
      "          SU       0.00      0.00      0.00       939\n",
      "\n",
      "    accuracy                           0.44     17505\n",
      "   macro avg       0.09      0.11      0.09     17505\n",
      "weighted avg       0.34      0.44      0.36     17505\n",
      "\n",
      "[[   0    5    0    0    0  205    0    0    0    0]\n",
      " [   0 1673    0    0    0 4774    0    0    0    0]\n",
      " [   0    6    0    0    0  189    0    0    0    0]\n",
      " [   0    5    0    0    0   21    0    0    0    0]\n",
      " [   0  168    0    0    0 1142    0    0    0    0]\n",
      " [   0 1331    0    0    0 5943    0    0    0    0]\n",
      " [   0    1    0    0    0    1    0    0    0    0]\n",
      " [   0    4    0    0    0   24    0    0    0    0]\n",
      " [   0  588    0    0    0  486    0    0    0    0]\n",
      " [   0   39    0    0    0  900    0    0    0    0]]\n",
      "Random Forest  accuracy is 0.43507569265924023\n",
      "Precision Score :  0.43507569265924023\n"
     ]
    },
    {
     "name": "stderr",
     "output_type": "stream",
     "text": [
      "C:\\Users\\rahim\\anaconda3\\lib\\site-packages\\sklearn\\metrics\\_classification.py:1270: UserWarning: Note that pos_label (set to 'positive') is ignored when average != 'binary' (got 'micro'). You may use labels=[pos_label] to specify a single positive class.\n",
      "  % (pos_label, average), UserWarning)\n"
     ]
    },
    {
     "name": "stdout",
     "output_type": "stream",
     "text": [
      "Recall Score :  0.43507569265924023\n",
      "================= KNN Classifier ====================\n"
     ]
    },
    {
     "name": "stderr",
     "output_type": "stream",
     "text": [
      "C:\\Users\\rahim\\anaconda3\\lib\\site-packages\\sklearn\\metrics\\_classification.py:1221: UndefinedMetricWarning: Precision and F-score are ill-defined and being set to 0.0 in labels with no predicted samples. Use `zero_division` parameter to control this behavior.\n",
      "  _warn_prf(average, modifier, msg_start, len(result))\n"
     ]
    },
    {
     "name": "stdout",
     "output_type": "stream",
     "text": [
      "              precision    recall  f1-score   support\n",
      "\n",
      "        CCTO       0.07      0.06      0.07       210\n",
      "          DM       0.32      0.46      0.38      6447\n",
      "          EQ       0.06      0.02      0.02       195\n",
      "         IDF       0.00      0.00      0.00        26\n",
      "         MET       0.09      0.04      0.05      1310\n",
      "         OTH       0.36      0.35      0.36      7274\n",
      "          PK       0.00      0.00      0.00         2\n",
      "          PR       0.00      0.00      0.00        28\n",
      "          SH       0.00      0.00      0.00      1074\n",
      "          SU       0.15      0.05      0.08       939\n",
      "\n",
      "    accuracy                           0.32     17505\n",
      "   macro avg       0.11      0.10      0.10     17505\n",
      "weighted avg       0.29      0.32      0.30     17505\n",
      "\n",
      "[[  13  113    0    0    3   70    0    0    1   10]\n",
      " [  58 2971   25    1  190 3065    0    0   26  111]\n",
      " [   5  103    3    0    3   75    0    0    0    6]\n",
      " [   1   17    0    0    0    8    0    0    0    0]\n",
      " [   6  617    2    1   49  613    0    0    3   19]\n",
      " [  66 4212   18    0  251 2574    0    0   25  128]\n",
      " [   0    1    0    0    0    1    0    0    0    0]\n",
      " [   1   17    0    0    1    7    0    0    0    2]\n",
      " [   1  691    0    0   24  350    0    0    0    8]\n",
      " [  29  490    5    0   21  341    0    0    3   50]]\n",
      "KNN Classifier  accuracy is 0.32333618966009714\n",
      "Precision Score :  0.32333618966009714\n"
     ]
    },
    {
     "name": "stderr",
     "output_type": "stream",
     "text": [
      "C:\\Users\\rahim\\anaconda3\\lib\\site-packages\\sklearn\\metrics\\_classification.py:1270: UserWarning: Note that pos_label (set to 'positive') is ignored when average != 'binary' (got 'micro'). You may use labels=[pos_label] to specify a single positive class.\n",
      "  % (pos_label, average), UserWarning)\n"
     ]
    },
    {
     "name": "stdout",
     "output_type": "stream",
     "text": [
      "Recall Score :  0.32333618966009714\n",
      "================= Decision Tree ====================\n"
     ]
    },
    {
     "name": "stderr",
     "output_type": "stream",
     "text": [
      "C:\\Users\\rahim\\anaconda3\\lib\\site-packages\\sklearn\\metrics\\_classification.py:1221: UndefinedMetricWarning: Precision and F-score are ill-defined and being set to 0.0 in labels with no predicted samples. Use `zero_division` parameter to control this behavior.\n",
      "  _warn_prf(average, modifier, msg_start, len(result))\n"
     ]
    },
    {
     "name": "stdout",
     "output_type": "stream",
     "text": [
      "              precision    recall  f1-score   support\n",
      "\n",
      "        CCTO       0.00      0.00      0.00       210\n",
      "          DM       0.43      0.29      0.34      6447\n",
      "          EQ       0.00      0.00      0.00       195\n",
      "         IDF       0.00      0.00      0.00        26\n",
      "         MET       0.00      0.00      0.00      1310\n",
      "         OTH       0.44      0.79      0.56      7274\n",
      "          PK       0.00      0.00      0.00         2\n",
      "          PR       0.00      0.00      0.00        28\n",
      "          SH       0.00      0.00      0.00      1074\n",
      "          SU       0.00      0.00      0.00       939\n",
      "\n",
      "    accuracy                           0.43     17505\n",
      "   macro avg       0.09      0.11      0.09     17505\n",
      "weighted avg       0.34      0.43      0.36     17505\n",
      "\n",
      "[[   0   20    0    0    0  190    0    0    0    0]\n",
      " [   0 1850    0    0    0 4597    0    0    0    0]\n",
      " [   0   19    0    0    0  176    0    0    0    0]\n",
      " [   0    6    0    0    0   20    0    0    0    0]\n",
      " [   0  217    0    0    0 1093    0    0    0    0]\n",
      " [   0 1522    0    0    0 5752    0    0    0    0]\n",
      " [   0    1    0    0    0    1    0    0    0    0]\n",
      " [   0    6    0    0    0   22    0    0    0    0]\n",
      " [   0  594    0    0    0  480    0    0    0    0]\n",
      " [   0   86    0    0    0  853    0    0    0    0]]\n",
      "Decision Tree  accuracy is 0.43427592116538133\n",
      "Precision Score :  0.43427592116538133\n",
      "Recall Score :  0.43427592116538133\n"
     ]
    },
    {
     "name": "stderr",
     "output_type": "stream",
     "text": [
      "C:\\Users\\rahim\\anaconda3\\lib\\site-packages\\sklearn\\metrics\\_classification.py:1270: UserWarning: Note that pos_label (set to 'positive') is ignored when average != 'binary' (got 'micro'). You may use labels=[pos_label] to specify a single positive class.\n",
      "  % (pos_label, average), UserWarning)\n"
     ]
    }
   ],
   "source": [
    "#comparison of 4 more classifier with hyper parametr tuning\n",
    "#Also calculating the confussion matrix and Acc, Pre,Recall\n",
    "names = [\"Logistic Regression\", \"Random Forest\", \"KNN Classifier\", \"Decision Tree\"]\n",
    "\n",
    "\n",
    "classifiers = [\n",
    "    LogisticRegression(solver='sag'),\n",
    "    RandomForestClassifier(max_depth=5, n_estimators=200),\n",
    "    KNeighborsClassifier(5),\n",
    "    DecisionTreeClassifier(max_depth=5),\n",
    "    ]\n",
    "\n",
    "for name, clf in zip(names, classifiers):\n",
    "    print(\"=================\",name,\"====================\")\n",
    "    clf.fit(x_train, y_train)\n",
    "    y_pred = clf.predict(x_test)\n",
    "    \n",
    "    #report can print out\n",
    "    print(classification_report(y_test, y_pred))\n",
    "    print(confusion_matrix(y_test, y_pred))\n",
    "    print(name,' accuracy is',accuracy_score(y_pred,y_test))\n",
    "    print(\"Precision Score : \",precision_score(y_test, y_pred, \n",
    "                                           pos_label='positive',\n",
    "                                           average='micro'))\n",
    "    print(\"Recall Score : \",recall_score(y_test, y_pred, \n",
    "                                           pos_label='positive',\n",
    "                                           average='micro'))\n",
    "\n",
    "    print('F1 score is ',f1_score(y_test, y_pred), average='micro')"
   ]
  },
  {
   "cell_type": "markdown",
   "metadata": {},
   "source": [
    "# Seaborn visulization"
   ]
  },
  {
   "cell_type": "code",
   "execution_count": 10,
   "metadata": {},
   "outputs": [
    {
     "data": {
      "text/plain": [
       "array([[   0,   10,    0,    0,    0,  198,    0,    0,    0,    0],\n",
       "       [   0, 1679,    0,    0,    0, 4801,    0,    0,    0,    0],\n",
       "       [   0,   15,    0,    0,    0,  165,    0,    0,    0,    0],\n",
       "       [   0,    9,    0,    0,    0,   17,    0,    0,    0,    0],\n",
       "       [   0,  197,    0,    0,    0, 1135,    0,    0,    0,    0],\n",
       "       [   0, 1311,    0,    0,    0, 5914,    0,    0,    0,    0],\n",
       "       [   0,    0,    0,    0,    0,    1,    0,    0,    0,    0],\n",
       "       [   0,    3,    0,    0,    0,   26,    0,    0,    0,    0],\n",
       "       [   0,  615,    0,    0,    0,  488,    0,    0,    0,    0],\n",
       "       [   0,   61,    0,    0,    0,  860,    0,    0,    0,    0]],\n",
       "      dtype=int64)"
      ]
     },
     "execution_count": 10,
     "metadata": {},
     "output_type": "execute_result"
    }
   ],
   "source": [
    "y_pred = classifier.predict(x_test)\n",
    "\n",
    "from sklearn.metrics import confusion_matrix\n",
    "cm = confusion_matrix(y_test, y_pred)\n",
    "cm"
   ]
  },
  {
   "cell_type": "code",
   "execution_count": 11,
   "metadata": {},
   "outputs": [
    {
     "data": {
      "text/plain": [
       "Text(70.0, 0.5, 'Truth')"
      ]
     },
     "execution_count": 11,
     "metadata": {},
     "output_type": "execute_result"
    },
    {
     "data": {
      "image/png": "[encoded data removed]",
      "text/plain": [
       "<Figure size 720x504 with 2 Axes>"
      ]
     },
     "metadata": {},
     "output_type": "display_data"
    }
   ],
   "source": [
    "import seaborn as sn\n",
    "plt.figure(figsize = (10,7))\n",
    "sn.heatmap(cm, annot=True)\n",
    "plt.xlabel('Predicted')\n",
    "plt.ylabel('Truth')"
   ]
  },
  {
   "cell_type": "code",
   "execution_count": null,
   "metadata": {},
   "outputs": [],
   "source": []
  }
 ],
 "metadata": {
  "kernelspec": {
   "display_name": "Python 3",
   "language": "python",
   "name": "python3"
  },
  "language_info": {
   "codemirror_mode": {
    "name": "ipython",
    "version": 3
   },
   "file_extension": ".py",
   "mimetype": "text/x-python",
   "name": "python",
   "nbconvert_exporter": "python",
   "pygments_lexer": "ipython3",
   "version": "3.7.6"
  }
 },
 "nbformat": 4,
 "nbformat_minor": 4
}
